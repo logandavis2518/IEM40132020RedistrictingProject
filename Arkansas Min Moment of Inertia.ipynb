{
 "cells": [
  {
   "cell_type": "code",
   "execution_count": 19,
   "id": "13331ed5",
   "metadata": {},
   "outputs": [],
   "source": [
    "from gerrychain import Graph\n",
    "import gurobipy as gp\n",
    "from gurobipy import GRB\n",
    "import math\n",
    "from geopy.distance import geodesic\n",
    "import geopandas as gpd"
   ]
  },
  {
   "cell_type": "code",
   "execution_count": 20,
   "id": "f5c2868d",
   "metadata": {},
   "outputs": [],
   "source": [
    "#Set filepath and filename equal to the path/name of the data used respectively\n",
    "filepath = 'C:/Users/Logan/Desktop\\College/IEM4013Project/'\n",
    "filename= 'AR_county.json'\n",
    "\n",
    "#Create a new Graph object G from the file\n",
    "G = Graph.from_json(filepath + filename)\n",
    "\n",
    "#\n",
    "for node in G.nodes:\n",
    "    G.nodes[node]['TOTPOP'] = G.nodes[node]['P0010001']\n",
    "    G.nodes[node]['C_X'] = G.nodes[node]['INTPTLON20']\n",
    "    G.nodes[node]['C_Y'] = G.nodes[node]['INTPTLAT20']"
   ]
  },
  {
   "cell_type": "code",
   "execution_count": 21,
   "id": "84dbd5b9",
   "metadata": {},
   "outputs": [],
   "source": [
    "# create distance dictionary\n",
    "dist = { (i,j) : 0 for i in G.nodes for j in G.nodes }\n",
    "for i in G.nodes:\n",
    "    for j in G.nodes:\n",
    "        loc_i = ( G.nodes[i]['C_Y'], G.nodes[i]['C_X'] )\n",
    "        loc_j = ( G.nodes[j]['C_Y'], G.nodes[j]['C_X'] )\n",
    "        dist[i,j] = geodesic(loc_i,loc_j).miles"
   ]
  },
  {
   "cell_type": "code",
   "execution_count": 22,
   "id": "dcf2a071",
   "metadata": {},
   "outputs": [
    {
     "name": "stdout",
     "output_type": "stream",
     "text": [
      "Using L = 749117 and U = 756645 and k = 4\n"
     ]
    }
   ],
   "source": [
    "dev = 0.01\n",
    "\n",
    "\n",
    "k = 4\n",
    "tot_pop = sum(G.nodes[node]['TOTPOP'] for node in G.nodes)\n",
    "\n",
    "L = math.ceil((1-dev/2)*tot_pop/k)\n",
    "U = math.floor((1+dev/2)*tot_pop/k)\n",
    "print(\"Using L =\",L,\"and U =\",U,\"and k =\",k)"
   ]
  },
  {
   "cell_type": "code",
   "execution_count": 23,
   "id": "1f948956",
   "metadata": {},
   "outputs": [],
   "source": [
    "\n",
    "\n",
    "m = gp.Model()\n",
    "\n",
    "x = m.addVars(G.nodes, G.nodes, vtype=GRB.BINARY)"
   ]
  },
  {
   "cell_type": "code",
   "execution_count": 24,
   "id": "6a536d9b",
   "metadata": {},
   "outputs": [],
   "source": [
    "m.setObjective( gp.quicksum( dist[i,j] * dist[i,j] * G.nodes[i]['TOTPOP'] * x[i,j] for i in G.nodes for j in G.nodes ), GRB.MINIMIZE )"
   ]
  },
  {
   "cell_type": "code",
   "execution_count": 25,
   "id": "60cb2ab4",
   "metadata": {},
   "outputs": [],
   "source": [
    "# add constraints saying that each county i is assigned to one district\n",
    "m.addConstrs( gp.quicksum( x[i,j] for j in G.nodes ) == 1 for i in G.nodes )\n",
    "\n",
    "# add constraint saying there should be k district centers\n",
    "m.addConstr( gp.quicksum( x[j,j] for j in G.nodes ) == k )\n",
    "\n",
    "# add constraints that say: if j roots a district, then its population is between L and U.\n",
    "m.addConstrs( gp.quicksum( G.nodes[i]['TOTPOP'] * x[i,j] for i in G.nodes ) >= L * x[j,j] for j in G.nodes )\n",
    "m.addConstrs( gp.quicksum( G.nodes[i]['TOTPOP'] * x[i,j] for i in G.nodes ) <= U * x[j,j] for j in G.nodes )\n",
    "\n",
    "# add coupling constraints saying that if i is assigned to j, then j is a center.\n",
    "m.addConstrs( x[i,j] <= x[j,j] for i in G.nodes for j in G.nodes )\n",
    "\n",
    "m.update()"
   ]
  },
  {
   "cell_type": "code",
   "execution_count": 26,
   "id": "671c62f4",
   "metadata": {},
   "outputs": [],
   "source": [
    "# add contiguity constraints\n",
    "import networkx as nx\n",
    "DG = nx.DiGraph(G)\n",
    "\n",
    "# add flow variables\n",
    "#    f[i,j,v] = flow across arc (i,j) that is sent from source/root v\n",
    "f = m.addVars( DG.edges, G.nodes ) \n",
    "\n",
    "# add constraints saying that if node i is assigned to node j, \n",
    "#   then node i must consume one unit of node j's flow\n",
    "m.addConstrs( gp.quicksum( f[u,i,j] - f[i,u,j] for u in G.neighbors(i) ) == x[i,j] for i in G.nodes for j in G.nodes if i != j )\n",
    "\n",
    "# add constraints saying that node i can receive flow of type j \n",
    "#   only if node i is assigned to node j\n",
    "M = G.number_of_nodes() - 1\n",
    "m.addConstrs( gp.quicksum( f[u,i,j] for u in G.neighbors(i) ) <= M * x[i,j] for i in G.nodes for j in G.nodes if i != j )\n",
    "\n",
    "# add constraints saying that node j cannot receive flow of its own type\n",
    "m.addConstrs( gp.quicksum( f[u,j,j] for u in G.neighbors(j) ) == 0 for j in G.nodes )\n",
    "\n",
    "m.update()"
   ]
  },
  {
   "cell_type": "code",
   "execution_count": 27,
   "id": "006dc3fa",
   "metadata": {
    "scrolled": false
   },
   "outputs": [
    {
     "name": "stdout",
     "output_type": "stream",
     "text": [
      "Set parameter MIPGap to value 0\n",
      "Gurobi Optimizer version 9.5.0 build v9.5.0rc5 (win64)\n",
      "Thread count: 6 physical cores, 12 logical processors, using up to 12 threads\n",
      "Optimize a model with 17026 rows, 34425 columns and 124782 nonzeros\n",
      "Model fingerprint: 0x9bc3cc84\n",
      "Variable types: 28800 continuous, 5625 integer (5625 binary)\n",
      "Coefficient statistics:\n",
      "  Matrix range     [1e+00, 8e+05]\n",
      "  Objective range  [2e+06, 2e+10]\n",
      "  Bounds range     [1e+00, 1e+00]\n",
      "  RHS range        [1e+00, 4e+00]\n",
      "Warning: Model contains large objective coefficients\n",
      "         Consider reformulating model or setting NumericFocus parameter\n",
      "         to avoid numerical issues.\n",
      "Presolve removed 161 rows and 396 columns\n",
      "Presolve time: 0.38s\n",
      "Presolved: 16865 rows, 34029 columns, 123986 nonzeros\n",
      "Variable types: 28404 continuous, 5625 integer (5625 binary)\n",
      "\n",
      "Deterministic concurrent LP optimizer: primal and dual simplex\n",
      "Showing first log only...\n",
      "\n",
      "Concurrent spin time: 0.00s\n",
      "\n",
      "Solved with dual simplex\n",
      "\n",
      "Root relaxation: objective 6.308102e+09, 2427 iterations, 0.41 seconds (0.47 work units)\n",
      "\n",
      "    Nodes    |    Current Node    |     Objective Bounds      |     Work\n",
      " Expl Unexpl |  Obj  Depth IntInf | Incumbent    BestBd   Gap | It/Node Time\n",
      "\n",
      "     0     0 6.3081e+09    0   44          - 6.3081e+09      -     -    1s\n",
      "H    0     0                    6.998876e+09 6.3081e+09  9.87%     -    1s\n",
      "H    0     0                    6.883477e+09 6.3081e+09  8.36%     -    1s\n",
      "     0     0 6.3997e+09    0  158 6.8835e+09 6.3997e+09  7.03%     -    1s\n",
      "     0     0 6.3997e+09    0   44 6.8835e+09 6.3997e+09  7.03%     -    2s\n",
      "     0     0 6.3997e+09    0  158 6.8835e+09 6.3997e+09  7.03%     -    3s\n",
      "     0     0 6.4904e+09    0  160 6.8835e+09 6.4904e+09  5.71%     -    3s\n",
      "     0     0 6.4904e+09    0  160 6.8835e+09 6.4904e+09  5.71%     -    3s\n",
      "     0     0 6.4915e+09    0  160 6.8835e+09 6.4915e+09  5.69%     -    3s\n",
      "     0     0 6.5143e+09    0  165 6.8835e+09 6.5143e+09  5.36%     -    3s\n",
      "     0     0 6.6052e+09    0  174 6.8835e+09 6.6052e+09  4.04%     -    4s\n",
      "     0     0 6.6053e+09    0  173 6.8835e+09 6.6053e+09  4.04%     -    4s\n",
      "     0     0 6.6252e+09    0  175 6.8835e+09 6.6252e+09  3.75%     -    4s\n",
      "     0     0 6.6474e+09    0  205 6.8835e+09 6.6474e+09  3.43%     -    4s\n",
      "     0     0 6.6484e+09    0  207 6.8835e+09 6.6484e+09  3.41%     -    4s\n",
      "     0     0 6.6505e+09    0  208 6.8835e+09 6.6505e+09  3.38%     -    4s\n",
      "     0     0 6.6505e+09    0  208 6.8835e+09 6.6505e+09  3.38%     -    4s\n",
      "     0     0 6.6672e+09    0  178 6.8835e+09 6.6672e+09  3.14%     -    4s\n",
      "     0     0 6.6672e+09    0   44 6.8835e+09 6.6672e+09  3.14%     -    5s\n",
      "     0     0 6.6672e+09    0  160 6.8835e+09 6.6672e+09  3.14%     -    5s\n",
      "     0     0 6.6672e+09    0  193 6.8835e+09 6.6672e+09  3.14%     -    6s\n",
      "     0     0 6.6672e+09    0  166 6.8835e+09 6.6672e+09  3.14%     -    6s\n",
      "     0     0 6.6672e+09    0  175 6.8835e+09 6.6672e+09  3.14%     -    6s\n",
      "     0     0 6.6672e+09    0  177 6.8835e+09 6.6672e+09  3.14%     -    6s\n",
      "     0     0 6.6672e+09    0  177 6.8835e+09 6.6672e+09  3.14%     -    6s\n",
      "     0     0 6.6672e+09    0  164 6.8835e+09 6.6672e+09  3.14%     -    6s\n",
      "     0     0 6.6672e+09    0  166 6.8835e+09 6.6672e+09  3.14%     -    6s\n",
      "     0     0 6.6672e+09    0  165 6.8835e+09 6.6672e+09  3.14%     -    6s\n",
      "     0     0 6.6672e+09    0  167 6.8835e+09 6.6672e+09  3.14%     -    6s\n",
      "     0     0 6.6672e+09    0  228 6.8835e+09 6.6672e+09  3.14%     -    7s\n",
      "H    0     0                    6.835095e+09 6.6672e+09  2.46%     -    7s\n",
      "     0     0 6.6895e+09    0  227 6.8351e+09 6.6895e+09  2.13%     -    7s\n",
      "     0     0 6.6906e+09    0  231 6.8351e+09 6.6906e+09  2.11%     -    7s\n",
      "     0     0 6.6919e+09    0  232 6.8351e+09 6.6919e+09  2.09%     -    7s\n",
      "     0     0 6.6919e+09    0  235 6.8351e+09 6.6919e+09  2.09%     -    7s\n",
      "     0     0 6.6995e+09    0  235 6.8351e+09 6.6995e+09  1.98%     -    7s\n",
      "     0     0 6.6995e+09    0  235 6.8351e+09 6.6995e+09  1.98%     -    7s\n",
      "     0     0 6.7478e+09    0  254 6.8351e+09 6.7478e+09  1.28%     -    7s\n",
      "     0     0 6.7478e+09    0   44 6.8351e+09 6.7478e+09  1.28%     -    8s\n",
      "     0     0 6.7478e+09    0  176 6.8351e+09 6.7478e+09  1.28%     -    8s\n",
      "     0     0 6.7478e+09    0  174 6.8351e+09 6.7478e+09  1.28%     -    8s\n",
      "     0     0 6.7478e+09    0  202 6.8351e+09 6.7478e+09  1.28%     -    8s\n",
      "     0     0 6.7478e+09    0  195 6.8351e+09 6.7478e+09  1.28%     -    8s\n",
      "     0     0 6.7478e+09    0  223 6.8351e+09 6.7478e+09  1.28%     -    8s\n",
      "     0     0 6.7478e+09    0  215 6.8351e+09 6.7478e+09  1.28%     -    9s\n",
      "     0     0 6.7478e+09    0  245 6.8351e+09 6.7478e+09  1.28%     -    9s\n",
      "     0     0 6.7478e+09    0  247 6.8351e+09 6.7478e+09  1.28%     -    9s\n",
      "     0     0 6.7478e+09    0  249 6.8351e+09 6.7478e+09  1.28%     -    9s\n",
      "     0     0 6.7478e+09    0  224 6.8351e+09 6.7478e+09  1.28%     -    9s\n",
      "     0     0 6.7478e+09    0  225 6.8351e+09 6.7478e+09  1.28%     -    9s\n",
      "     0     0 6.7478e+09    0  227 6.8351e+09 6.7478e+09  1.28%     -    9s\n",
      "     0     0 6.7478e+09    0  258 6.8351e+09 6.7478e+09  1.28%     -    9s\n",
      "     0     0 6.7478e+09    0  259 6.8351e+09 6.7478e+09  1.28%     -    9s\n",
      "     0     0 6.7518e+09    0  236 6.8351e+09 6.7518e+09  1.22%     -    9s\n",
      "     0     0 6.7562e+09    0  245 6.8351e+09 6.7562e+09  1.15%     -    9s\n",
      "     0     0 6.7612e+09    0  244 6.8351e+09 6.7612e+09  1.08%     -    9s\n",
      "     0     0 6.7612e+09    0  243 6.8351e+09 6.7612e+09  1.08%     -    9s\n",
      "     0     0 6.7966e+09    0  247 6.8351e+09 6.7966e+09  0.56%     -    9s\n",
      "     0     0 6.7992e+09    0  247 6.8351e+09 6.7992e+09  0.53%     -   10s\n",
      "     0     2 6.7992e+09    0  247 6.8351e+09 6.7992e+09  0.53%     -   10s\n",
      "\n",
      "Cutting planes:\n",
      "  Gomory: 1\n",
      "  Lift-and-project: 2\n",
      "  Cover: 31\n",
      "  Implied bound: 4\n",
      "  Clique: 1\n",
      "  MIR: 9\n",
      "  StrongCG: 2\n",
      "  Flow cover: 47\n",
      "  GUB cover: 10\n",
      "  Network: 4\n",
      "  RLT: 2\n",
      "\n",
      "Explored 75 nodes (15169 simplex iterations) in 10.82 seconds (7.26 work units)\n",
      "Thread count was 12 (of 12 available processors)\n",
      "\n",
      "Solution count 3: 6.8351e+09 6.88348e+09 6.99888e+09 \n",
      "\n",
      "Optimal solution found (tolerance 0.00e+00)\n",
      "Best objective 6.835095216711e+09, best bound 6.835095216711e+09, gap 0.0000%\n"
     ]
    }
   ],
   "source": [
    "m.Params.MIPGap = 0.0\n",
    "\n",
    "m.optimize()"
   ]
  },
  {
   "cell_type": "code",
   "execution_count": 28,
   "id": "98ea8cdd",
   "metadata": {},
   "outputs": [
    {
     "name": "stdout",
     "output_type": "stream",
     "text": [
      "6835095216.710738\n",
      "District 0 has population 753326 and contains counties ['Jackson', 'Clay', 'Baxter', 'St. Francis', 'Sharp', 'Greene', 'Woodruff', 'White', 'Lee', 'Crittenden', 'Marion', 'Prairie', 'Lawrence', 'Poinsett', 'Independence', 'Lonoke', 'Fulton', 'Arkansas', 'Randolph', 'Izard', 'Craighead', 'Cleburne', 'Monroe', 'Mississippi', 'Cross', 'Phillips']\n",
      "\n",
      "District 1 has population 749461 and contains counties ['Franklin', 'Faulkner', 'Boone', 'Conway', 'Pulaski', 'Madison', 'Pope', 'Stone', 'Van Buren', 'Johnson', 'Searcy', 'Perry']\n",
      "\n",
      "District 2 has population 755116 and contains counties ['Little River', 'Ashley', 'Desha', 'Montgomery', 'Howard', 'Nevada', 'Grant', 'Dallas', 'Cleveland', 'Lafayette', 'Saline', 'Chicot', 'Bradley', 'Drew', 'Pike', 'Union', 'Hempstead', 'Polk', 'Clark', 'Logan', 'Miller', 'Garland', 'Sevier', 'Jefferson', 'Lincoln', 'Scott', 'Hot Spring', 'Columbia', 'Ouachita', 'Yell', 'Calhoun']\n",
      "\n",
      "District 3 has population 753621 and contains counties ['Crawford', 'Benton', 'Sebastian', 'Carroll', 'Washington', 'Newton']\n",
      "\n"
     ]
    }
   ],
   "source": [
    "# print the objective value\n",
    "print(m.objVal)\n",
    "\n",
    "# retrieve the districts and their populations\n",
    "#    but first get the district \"centers\"\n",
    "\n",
    "centers = [ j for j in G.nodes if x[j,j].x > 0.5 ]\n",
    "\n",
    "districts = [ [ i for i in G.nodes if x[i,j].x > 0.5 ] for j in centers ]\n",
    "district_counties = [ [ G.nodes[i][\"NAME20\"] for i in districts[j] ] for j in range(k)]\n",
    "district_populations = [ sum(G.nodes[i][\"TOTPOP\"] for i in districts[j]) for j in range(k) ]\n",
    "\n",
    "# print district info\n",
    "for j in range(k):\n",
    "    print(\"District\",j,\"has population\",district_populations[j],\"and contains counties\",district_counties[j])\n",
    "    print(\"\")"
   ]
  },
  {
   "cell_type": "code",
   "execution_count": 29,
   "id": "00223ea0",
   "metadata": {},
   "outputs": [],
   "source": [
    "filepath = 'C:/Users/Logan/Desktop\\College/IEM4013Project/'\n",
    "filename = 'AR_county.shp'\n",
    "df = gpd.read_file( filepath + filename)"
   ]
  },
  {
   "cell_type": "code",
   "execution_count": 30,
   "id": "19fa7a04",
   "metadata": {},
   "outputs": [
    {
     "data": {
      "image/png": "[encoded data removed]",
      "text/plain": [
       "<Figure size 432x288 with 1 Axes>"
      ]
     },
     "metadata": {
      "needs_background": "light"
     },
     "output_type": "display_data"
    }
   ],
   "source": [
    "# Which district is each county assigned to?\n",
    "assignment = [ -1 for i in G.nodes ]\n",
    "\n",
    "labeling = { i : -1 for i in G.nodes }\n",
    "for j in range(k):\n",
    "    district = districts[j]\n",
    "    for i in district:\n",
    "        labeling[i] = j\n",
    "\n",
    "# Now add the assignments to a column of the dataframe and map it\n",
    "node_with_this_geoid = { G.nodes[i]['GEOID20'] : i for i in G.nodes }\n",
    "\n",
    "# pick a position u in the dataframe\n",
    "for u in range(G.number_of_nodes()):\n",
    "    \n",
    "    geoid = df['GEOID20'][u]\n",
    "    \n",
    "    # what node in G has this geoid?\n",
    "    i = node_with_this_geoid[geoid]\n",
    "    \n",
    "    # position u in the dataframe should be given\n",
    "    # the same district # that county i has in 'labeling'\n",
    "    assignment[u] = labeling[i]\n",
    "    \n",
    "# now add the assignments to a column of our dataframe and then map it\n",
    "df['assignment'] = assignment\n",
    "\n",
    "my_fig = df.plot(column='assignment').get_figure()"
   ]
  },
  {
   "cell_type": "code",
   "execution_count": null,
   "id": "463a5d82",
   "metadata": {},
   "outputs": [],
   "source": []
  }
 ],
 "metadata": {
  "kernelspec": {
   "display_name": "Python 3 (ipykernel)",
   "language": "python",
   "name": "python3"
  },
  "language_info": {
   "codemirror_mode": {
    "name": "ipython",
    "version": 3
   },
   "file_extension": ".py",
   "mimetype": "text/x-python",
   "name": "python",
   "nbconvert_exporter": "python",
   "pygments_lexer": "ipython3",
   "version": "3.9.7"
  }
 },
 "nbformat": 4,
 "nbformat_minor": 5
}
