{
 "cells": [
  {
   "cell_type": "code",
   "execution_count": 1,
   "id": "fc10d9c0",
   "metadata": {},
   "outputs": [],
   "source": [
    "from gerrychain import Graph"
   ]
  },
  {
   "cell_type": "code",
   "execution_count": 2,
   "id": "c37ae5d4",
   "metadata": {},
   "outputs": [],
   "source": [
    "filepath = 'C:/Users/Logan/Desktop\\College/IEM4013Project/'\n",
    "filename= 'AR_county.json'\n",
    "\n",
    "G = Graph.from_json(filepath + filename)"
   ]
  },
  {
   "cell_type": "code",
   "execution_count": 3,
   "id": "cc396e44",
   "metadata": {},
   "outputs": [],
   "source": [
    "for node in G.nodes:\n",
    "    G.nodes[node]['TOTPOP'] = G.nodes[node]['P0010001']"
   ]
  },
  {
   "cell_type": "code",
   "execution_count": 4,
   "id": "5433ad32",
   "metadata": {},
   "outputs": [
    {
     "name": "stdout",
     "output_type": "stream",
     "text": [
      "Using L = 749117 and U = 756645 and k = 4\n"
     ]
    }
   ],
   "source": [
    "dev = 0.01\n",
    "\n",
    "import math\n",
    "k = 4\n",
    "tot_pop = sum(G.nodes[node]['TOTPOP'] for node in G.nodes)\n",
    "\n",
    "L = math.ceil((1-dev/2)*tot_pop/k)\n",
    "U = math.floor((1+dev/2)*tot_pop/k)\n",
    "print(\"Using L =\",L,\"and U =\",U,\"and k =\",k)"
   ]
  },
  {
   "cell_type": "code",
   "execution_count": 5,
   "id": "ec1e0999",
   "metadata": {},
   "outputs": [
    {
     "name": "stdout",
     "output_type": "stream",
     "text": [
      "Set parameter Username\n",
      "Academic license - for non-commercial use only - expires 2022-06-23\n"
     ]
    }
   ],
   "source": [
    "import gurobipy as gp\n",
    "from gurobipy import GRB\n",
    "\n",
    "# create model \n",
    "m = gp.Model()\n",
    "\n",
    "# create variables\n",
    "x = m.addVars(G.nodes, k, vtype=GRB.BINARY) # x[i,j] equals one when county i is assigned to district j\n",
    "y = m.addVars(G.edges, vtype=GRB.BINARY)    # y[u,v] equals one when edge {u,v} is cut"
   ]
  },
  {
   "cell_type": "code",
   "execution_count": 6,
   "id": "df4903d0",
   "metadata": {},
   "outputs": [],
   "source": [
    "m.setObjective( gp.quicksum( G.edges[u,v]['shared_perim'] * y[u,v] for u,v in G.edges ), GRB.MINIMIZE )"
   ]
  },
  {
   "cell_type": "code",
   "execution_count": 7,
   "id": "e9bbf4af",
   "metadata": {},
   "outputs": [],
   "source": [
    "m.addConstrs( gp.quicksum( x[i,j] for j in range(k)) == 1 for i in G.nodes )\n",
    "\n",
    "# add constraints saying that each district has population at least L and at most U\n",
    "m.addConstrs( gp.quicksum( G.nodes[i]['TOTPOP'] * x[i,j] for i in G.nodes) >= L for j in range(k) )\n",
    "m.addConstrs( gp.quicksum( G.nodes[i]['TOTPOP'] * x[i,j] for i in G.nodes) <= U for j in range(k) )\n",
    "\n",
    "# add constraints saying that edge {u,v} is cut if u is assigned to district j but v is not.\n",
    "m.addConstrs( x[u,j] - x[v,j] <= y[u,v] for u,v in G.edges for j in range(k) )\n",
    "\n",
    "m.update()"
   ]
  },
  {
   "cell_type": "code",
   "execution_count": 8,
   "id": "4d550136",
   "metadata": {},
   "outputs": [],
   "source": [
    "# Add root variables: r[i,j] equals 1 if node i is the \"root\" of district j\n",
    "r = m.addVars( G.nodes, k, vtype=GRB.BINARY)\n",
    "\n",
    "# To solve the MIP faster, fix some district roots:\n",
    "\n",
    "r[20,0].LB = 1  # fix Oklahoma county as root of district 0\n",
    "r[37,1].LB = 1 # fix Tulsa county as root of district 1\n",
    "r[62,2].LB = 1  # fix Comanche county as root of district 2\n",
    "r[56,3].LB = 1\n",
    "# Add flow variables: f[u,v] = amount of flow sent across arc uv \n",
    "#  Flows are sent across arcs of the directed version of G which we call DG\n",
    "\n",
    "import networkx as nx\n",
    "DG = nx.DiGraph(G)      # directed version of G\n",
    "\n",
    "f = m.addVars( DG.edges )"
   ]
  },
  {
   "cell_type": "code",
   "execution_count": 9,
   "id": "f61109e0",
   "metadata": {},
   "outputs": [],
   "source": [
    "# The big-M proposed by Hojny et al.\n",
    "M = G.number_of_nodes() - k + 1\n",
    "\n",
    "# Each district j should have one root\n",
    "m.addConstrs( gp.quicksum( r[i,j] for i in G.nodes ) == 1 for j in range(k) )\n",
    "\n",
    "# If node i is not assigned to district j, then it cannot be its root\n",
    "m.addConstrs( r[i,j] <= x[i,j] for i in G.nodes for j in range(k) ) \n",
    "\n",
    "# if not a root, consume some flow.\n",
    "# if a root, only send out (so much) flow.\n",
    "m.addConstrs( gp.quicksum( f[j,i] - f[i,j] for j in G.neighbors(i) ) \n",
    "             >= 1 - M * gp.quicksum( r[i,j] for j in range(k) ) for i in G.nodes )\n",
    "\n",
    "# do not send flow across cut edges\n",
    "m.addConstrs( f[i,j] + f[j,i] <= M * ( 1 - y[i,j] ) for i,j in G.edges )\n",
    "\n",
    "m.update()"
   ]
  },
  {
   "cell_type": "code",
   "execution_count": 10,
   "id": "f8339c36",
   "metadata": {
    "scrolled": false
   },
   "outputs": [
    {
     "name": "stdout",
     "output_type": "stream",
     "text": [
      "Gurobi Optimizer version 9.5.0 build v9.5.0rc5 (win64)\n",
      "Thread count: 6 physical cores, 12 logical processors, using up to 12 threads\n",
      "Optimize a model with 1422 rows, 1176 columns and 5748 nonzeros\n",
      "Model fingerprint: 0xf1f792f7\n",
      "Variable types: 384 continuous, 792 integer (792 binary)\n",
      "Coefficient statistics:\n",
      "  Matrix range     [1e+00, 4e+05]\n",
      "  Objective range  [2e-03, 1e+00]\n",
      "  Bounds range     [1e+00, 1e+00]\n",
      "  RHS range        [1e+00, 8e+05]\n",
      "Presolve removed 389 rows and 338 columns\n",
      "Presolve time: 0.01s\n",
      "Presolved: 1033 rows, 838 columns, 4255 nonzeros\n",
      "Variable types: 382 continuous, 456 integer (456 binary)\n",
      "\n",
      "Root relaxation: objective 6.025434e+00, 1119 iterations, 0.03 seconds (0.03 work units)\n",
      "\n",
      "    Nodes    |    Current Node    |     Objective Bounds      |     Work\n",
      " Expl Unexpl |  Obj  Depth IntInf | Incumbent    BestBd   Gap | It/Node Time\n",
      "\n",
      "     0     0    6.02543    0  291          -    6.02543      -     -    0s\n",
      "     0     0    6.73616    0  302          -    6.73616      -     -    0s\n",
      "     0     0    6.73734    0  299          -    6.73734      -     -    0s\n",
      "     0     0    6.73888    0  325          -    6.73888      -     -    0s\n",
      "     0     0    6.92886    0  302          -    6.92886      -     -    0s\n",
      "     0     0    7.10678    0  344          -    7.10678      -     -    0s\n",
      "     0     0    7.13884    0  331          -    7.13884      -     -    0s\n",
      "     0     0    7.15078    0  330          -    7.15078      -     -    0s\n",
      "     0     0    7.18415    0  293          -    7.18415      -     -    0s\n",
      "     0     0    7.20866    0  308          -    7.20866      -     -    0s\n",
      "     0     0    7.21596    0  336          -    7.21596      -     -    0s\n",
      "     0     0    7.21736    0  322          -    7.21736      -     -    0s\n",
      "     0     0    7.21743    0  332          -    7.21743      -     -    0s\n",
      "     0     0    7.21873    0  307          -    7.21873      -     -    0s\n",
      "     0     0    7.21913    0  309          -    7.21913      -     -    0s\n",
      "     0     0    7.21918    0  305          -    7.21918      -     -    0s\n",
      "     0     0    7.21918    0  305          -    7.21918      -     -    0s\n",
      "     0     2    7.21918    0  305          -    7.21918      -     -    0s\n",
      "  1327  1065    8.42820   18  296          -    8.42820      -   3.9    5s\n",
      "H 2702  1596                      16.6830953    8.96754  46.2%  56.4    8s\n",
      "H 3094  1126                      13.7152914    8.96754  34.6%  60.1    8s\n",
      "  3532  1155   11.77045   30  220   13.71529    9.58227  30.1%  67.7   10s\n",
      "H 3535   911                      13.0101830    9.58227  26.3%  67.8   10s\n",
      "H 3642   799                      12.8332304    9.69542  24.5%  69.2   10s\n",
      "  5209  1108   12.58788   31  267   12.83323   10.17867  20.7%  87.5   15s\n",
      "H 6366  1127                      12.4446480   10.39539  16.5%  96.2   17s\n",
      "  6890  1144   11.57208   25  300   12.44465   10.52028  15.5%  99.3   20s\n",
      "* 7491   909              42      12.0096455   10.71616  10.8%   102   20s\n",
      " 10204     6     cutoff   27        12.00965   11.51517  4.12%   105   25s\n",
      "\n",
      "Cutting planes:\n",
      "  Gomory: 8\n",
      "  Cover: 5\n",
      "  MIR: 31\n",
      "  Flow cover: 76\n",
      "  Inf proof: 21\n",
      "  RLT: 239\n",
      "\n",
      "Explored 10713 nodes (1229259 simplex iterations) in 25.05 seconds (29.42 work units)\n",
      "Thread count was 12 (of 12 available processors)\n",
      "\n",
      "Solution count 6: 12.0096 12.4446 12.8332 ... 16.6831\n",
      "\n",
      "Optimal solution found (tolerance 1.00e-04)\n",
      "Best objective 1.200964554654e+01, best bound 1.200964554654e+01, gap 0.0000%\n"
     ]
    }
   ],
   "source": [
    "m.optimize()"
   ]
  },
  {
   "cell_type": "code",
   "execution_count": 11,
   "id": "5909c8e0",
   "metadata": {},
   "outputs": [
    {
     "name": "stdout",
     "output_type": "stream",
     "text": [
      "The number of cut edges is 12.00964554654077\n",
      "District 0 has population 750788 and contains counties ['Faulkner', 'Conway', 'Pulaski', 'Saline', 'Lonoke', 'Perry']\n",
      "\n",
      "District 1 has population 751754 and contains counties ['Franklin', 'Crawford', 'Benton', 'Madison', 'Sebastian', 'Washington']\n",
      "\n",
      "District 2 has population 754435 and contains counties ['Jackson', 'Clay', 'Baxter', 'Boone', 'St. Francis', 'Sharp', 'Greene', 'Woodruff', 'White', 'Lee', 'Crittenden', 'Marion', 'Prairie', 'Lawrence', 'Poinsett', 'Stone', 'Independence', 'Fulton', 'Carroll', 'Van Buren', 'Searcy', 'Randolph', 'Izard', 'Craighead', 'Cleburne', 'Monroe', 'Mississippi', 'Newton', 'Cross']\n",
      "\n",
      "District 3 has population 754547 and contains counties ['Little River', 'Ashley', 'Desha', 'Montgomery', 'Howard', 'Nevada', 'Grant', 'Dallas', 'Cleveland', 'Lafayette', 'Chicot', 'Pope', 'Bradley', 'Drew', 'Pike', 'Union', 'Hempstead', 'Polk', 'Clark', 'Logan', 'Miller', 'Arkansas', 'Johnson', 'Garland', 'Sevier', 'Jefferson', 'Lincoln', 'Scott', 'Hot Spring', 'Columbia', 'Ouachita', 'Yell', 'Calhoun', 'Phillips']\n",
      "\n"
     ]
    }
   ],
   "source": [
    "print(\"The number of cut edges is\",m.objval)\n",
    "\n",
    "districts = [[i for i in G.nodes if x[i,j].x > 0.5] for j in range(k)]\n",
    "district_counties = [[G.nodes[i][\"NAME20\"] for i in districts[j] ] for j in range(k)]\n",
    "district_populations = [sum(G.nodes[i][\"TOTPOP\"] for i in districts[j]) for j in range(k)]\n",
    "\n",
    "for j in range(k):\n",
    "    print(\"District\",j,\"has population\",district_populations[j],\"and contains counties\",district_counties[j])\n",
    "    print(\"\")"
   ]
  },
  {
   "cell_type": "code",
   "execution_count": 12,
   "id": "6eacfd58",
   "metadata": {},
   "outputs": [],
   "source": [
    "import geopandas as gpd\n",
    "\n",
    "filepath = 'C:/Users/Logan/Desktop\\College/IEM4013Project/'\n",
    "filename = 'AR_county.shp'\n",
    "df = gpd.read_file( filepath + filename)"
   ]
  },
  {
   "cell_type": "code",
   "execution_count": 13,
   "id": "b8eb16ee",
   "metadata": {},
   "outputs": [
    {
     "data": {
      "image/png": "[encoded data removed]",
      "text/plain": [
       "<Figure size 432x288 with 1 Axes>"
      ]
     },
     "metadata": {
      "needs_background": "light"
     },
     "output_type": "display_data"
    }
   ],
   "source": [
    "assignment = [ -1 for i in G.nodes ]\n",
    "\n",
    "labeling = { i : j for i in G.nodes for j in range(k) if x[i,j].x > 0.5 }\n",
    "\n",
    "node_with_this_geoid = { G.nodes[i]['GEOID20'] : i for i in G.nodes }\n",
    "\n",
    "for u in range(G.number_of_nodes()):\n",
    "    \n",
    "    geoid = df['GEOID20'][u]\n",
    "    i = node_with_this_geoid[geoid]\n",
    "    assignment[u] = labeling[i]\n",
    "    \n",
    "df['assignment'] = assignment\n",
    "my_fig = df.plot(column='assignment').get_figure()"
   ]
  },
  {
   "cell_type": "code",
   "execution_count": null,
   "id": "8865f335",
   "metadata": {},
   "outputs": [],
   "source": []
  }
 ],
 "metadata": {
  "kernelspec": {
   "display_name": "Python 3 (ipykernel)",
   "language": "python",
   "name": "python3"
  },
  "language_info": {
   "codemirror_mode": {
    "name": "ipython",
    "version": 3
   },
   "file_extension": ".py",
   "mimetype": "text/x-python",
   "name": "python",
   "nbconvert_exporter": "python",
   "pygments_lexer": "ipython3",
   "version": "3.9.7"
  }
 },
 "nbformat": 4,
 "nbformat_minor": 5
}
